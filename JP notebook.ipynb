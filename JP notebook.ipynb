{
    "cells": [
        {
            "metadata": {},
            "cell_type": "markdown",
            "source": "# My Jupyter Notebook on IBM Watson Studio"
        },
        {
            "metadata": {},
            "cell_type": "markdown",
            "source": "**Syed Umamuddin**\n<br>\nI want to become a Data Scientist"
        },
        {
            "metadata": {},
            "cell_type": "markdown",
            "source": "*I am interested in data science because I applied these techniques to change the world and too enchance the sustainable development*"
        },
        {
            "metadata": {},
            "cell_type": "markdown",
            "source": "### My code will add two numbers and gives its result as an output"
        },
        {
            "metadata": {},
            "cell_type": "code",
            "source": "def add(a=0,b=0):\n    sum=a+b;\n    return sum;",
            "execution_count": 8,
            "outputs": []
        },
        {
            "metadata": {},
            "cell_type": "code",
            "source": "add(1,2)",
            "execution_count": 9,
            "outputs": [
                {
                    "output_type": "execute_result",
                    "execution_count": 9,
                    "data": {
                        "text/plain": "3"
                    },
                    "metadata": {}
                }
            ]
        },
        {
            "metadata": {},
            "cell_type": "markdown",
            "source": "Believe in yorself <HR><hr>"
        },
        {
            "metadata": {},
            "cell_type": "markdown",
            "source": "<a href=\"https://eu-gb.dataplatform.cloud.ibm.com/analytics/notebooks/v2/e762aa7a-1d00-4e4f-98cb-bff4342e179f/view?access_token=c541288eef63a2a754542521c8fe998b8de4cb824b90cca299d7143e8dce2b9d\">my project link</a>"
        },
        {
            "metadata": {},
            "cell_type": "markdown",
            "source": "<ol> Athletes Names\n<li> Lionel Messi\n<li> Virat Kohli\n<li>Paul Pogba\n<li>Mahendra Singh Dhoni\n</ol>"
        },
        {
            "metadata": {},
            "cell_type": "code",
            "source": "",
            "execution_count": null,
            "outputs": []
        }
    ],
    "metadata": {
        "kernelspec": {
            "name": "python3",
            "display_name": "Python 3.9",
            "language": "python"
        },
        "language_info": {
            "name": "python",
            "version": "3.9.13",
            "mimetype": "text/x-python",
            "codemirror_mode": {
                "name": "ipython",
                "version": 3
            },
            "pygments_lexer": "ipython3",
            "nbconvert_exporter": "python",
            "file_extension": ".py"
        }
    },
    "nbformat": 4,
    "nbformat_minor": 1
}